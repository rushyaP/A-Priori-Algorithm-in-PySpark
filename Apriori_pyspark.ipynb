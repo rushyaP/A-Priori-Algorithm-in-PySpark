{
  "nbformat": 4,
  "nbformat_minor": 0,
  "metadata": {
    "colab": {
      "name": "Project1_Submission.ipynb",
      "provenance": []
    },
    "kernelspec": {
      "name": "python3",
      "display_name": "Python 3"
    }
  },
  "cells": [
    {
      "cell_type": "markdown",
      "metadata": {
        "id": "uoBVndZ1EnHk",
        "colab_type": "text"
      },
      "source": [
        "***Rushya Puttam***"
      ]
    },
    {
      "cell_type": "markdown",
      "metadata": {
        "id": "4FpynhJr6qxO",
        "colab_type": "text"
      },
      "source": [
        "**Installing PySpark**"
      ]
    },
    {
      "cell_type": "code",
      "metadata": {
        "id": "8WJioR1OX43b",
        "colab_type": "code",
        "colab": {
          "base_uri": "https://localhost:8080/",
          "height": 52
        },
        "outputId": "b6e297cf-a0f5-431a-da8d-0f8976a5dd29"
      },
      "source": [
        "pip install pyspark"
      ],
      "execution_count": 85,
      "outputs": [
        {
          "output_type": "stream",
          "text": [
            "Requirement already satisfied: pyspark in /usr/local/lib/python3.6/dist-packages (3.0.1)\n",
            "Requirement already satisfied: py4j==0.10.9 in /usr/local/lib/python3.6/dist-packages (from pyspark) (0.10.9)\n"
          ],
          "name": "stdout"
        }
      ]
    },
    {
      "cell_type": "markdown",
      "metadata": {
        "id": "-nChqzvR6x9X",
        "colab_type": "text"
      },
      "source": [
        "**Importing required libraries**"
      ]
    },
    {
      "cell_type": "code",
      "metadata": {
        "id": "uIonfG2oYDeh",
        "colab_type": "code",
        "colab": {}
      },
      "source": [
        "from pyspark import SparkContext, SparkConf\n",
        "import sys\n",
        "from operator import add"
      ],
      "execution_count": 86,
      "outputs": []
    },
    {
      "cell_type": "code",
      "metadata": {
        "id": "r0QIobWuYHqJ",
        "colab_type": "code",
        "colab": {}
      },
      "source": [
        "import itertools\n",
        "from itertools import combinations"
      ],
      "execution_count": 87,
      "outputs": []
    },
    {
      "cell_type": "markdown",
      "metadata": {
        "id": "c_qTSPNK65RW",
        "colab_type": "text"
      },
      "source": [
        "**Initiating Spark Session**"
      ]
    },
    {
      "cell_type": "code",
      "metadata": {
        "id": "fLNb6sWwbJ2h",
        "colab_type": "code",
        "colab": {}
      },
      "source": [
        "sc = SparkContext(\"local\",\"Project 1 Apriori Algorithm\")"
      ],
      "execution_count": null,
      "outputs": []
    },
    {
      "cell_type": "markdown",
      "metadata": {
        "id": "YloZcQXA8COQ",
        "colab_type": "text"
      },
      "source": [
        "**Reading Input file**"
      ]
    },
    {
      "cell_type": "code",
      "metadata": {
        "id": "sWfawT8Fb3zh",
        "colab_type": "code",
        "colab": {}
      },
      "source": [
        "input='/content/drive/My Drive/CS-5683/browsing.txt'"
      ],
      "execution_count": 89,
      "outputs": []
    },
    {
      "cell_type": "code",
      "metadata": {
        "id": "StDp3thLb6G5",
        "colab_type": "code",
        "colab": {}
      },
      "source": [
        "inputRDD=sc.textFile(input)"
      ],
      "execution_count": 90,
      "outputs": []
    },
    {
      "cell_type": "markdown",
      "metadata": {
        "id": "U8KCc_448Hpj",
        "colab_type": "text"
      },
      "source": [
        "**Setting support to 85**"
      ]
    },
    {
      "cell_type": "code",
      "metadata": {
        "id": "i-oV4-6icJC_",
        "colab_type": "code",
        "colab": {}
      },
      "source": [
        "s=85"
      ],
      "execution_count": 91,
      "outputs": []
    },
    {
      "cell_type": "markdown",
      "metadata": {
        "id": "kLs7A0pv8M_u",
        "colab_type": "text"
      },
      "source": [
        "**Modifying the given input. Removing the trailing spaces for each line in input and converting to frozensets**"
      ]
    },
    {
      "cell_type": "code",
      "metadata": {
        "id": "4OVq4RI-b79p",
        "colab_type": "code",
        "colab": {}
      },
      "source": [
        "def modify_input(rdditem):\n",
        "  rdditem=rdditem.strip()\n",
        "  rdditem=rdditem.split()\n",
        "  rdditem=frozenset(rdditem)\n",
        "  return rdditem"
      ],
      "execution_count": 92,
      "outputs": []
    },
    {
      "cell_type": "code",
      "metadata": {
        "id": "bgK2yeBeb-Rv",
        "colab_type": "code",
        "colab": {}
      },
      "source": [
        "#This gives frozenset for each line in the input as map is used\n",
        "intermediate_input=inputRDD.map(lambda x:modify_input(x))"
      ],
      "execution_count": 93,
      "outputs": []
    },
    {
      "cell_type": "code",
      "metadata": {
        "id": "nttHmAlScABi",
        "colab_type": "code",
        "colab": {}
      },
      "source": [
        "#This gives each item separetly in the input file as flatmap is used. Also converting to frozenset\n",
        "modified_input=inputRDD.flatMap(lambda x:modify_input(x)).map(lambda x :frozenset((x,)))"
      ],
      "execution_count": 94,
      "outputs": []
    },
    {
      "cell_type": "markdown",
      "metadata": {
        "id": "O9wDHpdC-EW5",
        "colab_type": "text"
      },
      "source": [
        "**Generating singletons(singletons with their whole count and the singletons with count >=s)**"
      ]
    },
    {
      "cell_type": "code",
      "metadata": {
        "id": "ahf0Q9N6cC6G",
        "colab_type": "code",
        "colab": {}
      },
      "source": [
        "#Generating Candidate Singletons\n",
        "candidate_singletons=modified_input.map(lambda x:(x,1)).reduceByKey(lambda x,y:x+y)"
      ],
      "execution_count": 95,
      "outputs": []
    },
    {
      "cell_type": "code",
      "metadata": {
        "id": "BD76wdymcLGl",
        "colab_type": "code",
        "colab": {}
      },
      "source": [
        "#Generating Frequent Singletons\n",
        "freq_singletons=candidate_singletons.filter(lambda x:x[1]>=s)"
      ],
      "execution_count": 96,
      "outputs": []
    },
    {
      "cell_type": "markdown",
      "metadata": {
        "id": "N9UHdcoZ-fh1",
        "colab_type": "text"
      },
      "source": [
        "**Recursive for loop to generate 2-freq itemsets, 3-freq itemsets and 4-freq itemsets from 1-freq itemsets**"
      ]
    },
    {
      "cell_type": "markdown",
      "metadata": {
        "id": "y6YWhuezOtEp",
        "colab_type": "text"
      },
      "source": [
        "***Broadcasted the singletons and generating combinations for every line in input if the prev freq tems are a subset of each line in input***"
      ]
    },
    {
      "cell_type": "code",
      "metadata": {
        "id": "8lzWKLIucONx",
        "colab_type": "code",
        "colab": {}
      },
      "source": [
        "def get_freqitems(freq_items,k):\n",
        "  freq_combikeys=freq_items.map(lambda x:x[0])\n",
        "  freq_combi_bd=sc.broadcast(freq_combikeys.collect())\n",
        "  def get_combi(rdd):\n",
        "      if len(rdd)>k-1: \n",
        "        for i in freq_combi_bd.value:\n",
        "          if i.issubset(rdd):\n",
        "            return tuple(itertools.combinations(rdd,k))\n",
        "      return \"\"\n",
        "  next_combi=intermediate_input.flatMap(get_combi) \n",
        "  candidate_itemsets=next_combi.map(lambda x:frozenset(x)).map(lambda x:(x,1)).reduceByKey(lambda a,b:a+b)\n",
        "  frequent_itemsets=candidate_itemsets.filter(lambda x:x[1]>s)\n",
        "  if (k<4):\n",
        "    temp=frequent_itemsets\n",
        "    #print(temp.take(2))\n",
        "    frequent_itemsets=get_freqitems(frequent_itemsets,k+1)\n",
        "    #print(frequent_itemsets.take(2))\n",
        "    return temp.union(frequent_itemsets)\n",
        "  return frequent_itemsets"
      ],
      "execution_count": 97,
      "outputs": []
    },
    {
      "cell_type": "markdown",
      "metadata": {
        "id": "LK4JUNxJ_SJP",
        "colab_type": "text"
      },
      "source": [
        "**Calling recursive for loop to generate 2,3,4- Freq items**"
      ]
    },
    {
      "cell_type": "code",
      "metadata": {
        "id": "EwtLAJUXcTu1",
        "colab_type": "code",
        "colab": {}
      },
      "source": [
        "Freq_itemsets_234=get_freqitems(freq_singletons,2)"
      ],
      "execution_count": 98,
      "outputs": []
    },
    {
      "cell_type": "markdown",
      "metadata": {
        "id": "n0sHER8oCK7X",
        "colab_type": "text"
      },
      "source": [
        "**Generating Association Rules**"
      ]
    },
    {
      "cell_type": "code",
      "metadata": {
        "id": "Z4OxuiOVcVUc",
        "colab_type": "code",
        "colab": {}
      },
      "source": [
        "#Keeping only 1,2,3 freq itemsets since 4-freq items never comes to denominator while geenrating association rules\n",
        "Freq_itemsets_123=freq_singletons+Freq_itemsets_234.filter(lambda x:len(x[0])<4)"
      ],
      "execution_count": 99,
      "outputs": []
    },
    {
      "cell_type": "code",
      "metadata": {
        "id": "cBK2zEMtcf3V",
        "colab_type": "code",
        "colab": {}
      },
      "source": [
        "#Creating a dictionary for 1,2,3 Freq itemsets and broadcasting the dictionary\n",
        "Freq_itemsets_123_dict = {i[0] : i[1] for i in Freq_itemsets_123.collect()}\n",
        "Freq_itemsets_123_dictbd=sc.broadcast(Freq_itemsets_123_dict)"
      ],
      "execution_count": 100,
      "outputs": []
    },
    {
      "cell_type": "markdown",
      "metadata": {
        "id": "dovIKmfuDwnx",
        "colab_type": "text"
      },
      "source": [
        "**Setting the confidence to 90%**"
      ]
    },
    {
      "cell_type": "code",
      "metadata": {
        "id": "nFG0zbkDcyam",
        "colab_type": "code",
        "colab": {}
      },
      "source": [
        "c=90"
      ],
      "execution_count": 101,
      "outputs": []
    },
    {
      "cell_type": "code",
      "metadata": {
        "id": "8THpZNdecjtU",
        "colab_type": "code",
        "colab": {}
      },
      "source": [
        "def assocrules_generation(rdditem):\n",
        "  num = rdditem[1]\n",
        "  length = len(rdditem[0])\n",
        "  comb = itertools.combinations(rdditem[0],length - 1)\n",
        "  lst = []\n",
        "  for i in comb:\n",
        "    denom = Freq_itemsets_123_dictbd.value[frozenset((i))]\n",
        "    confidence = (num / denom)*100\n",
        "    if confidence >= c: \n",
        "      #output format\n",
        "      x1 = ''\n",
        "      for j in i:\n",
        "        x1 = x1 + ',' + str(j)\n",
        "      x1 = x1.strip(',')\n",
        "      x2 = rdditem[0] - frozenset(i)\n",
        "      x2 = str([k for k in x2][0])\n",
        "      lst.append( x1 + ' -> ' + x2 + ' ; Confidence = ' + str(round(confidence,2)) + '%')\n",
        "  return lst"
      ],
      "execution_count": 102,
      "outputs": []
    },
    {
      "cell_type": "code",
      "metadata": {
        "id": "uHTnCbUXcuri",
        "colab_type": "code",
        "colab": {}
      },
      "source": [
        "assoc_rules=Freq_itemsets_234.flatMap(assocrules_generation)"
      ],
      "execution_count": 103,
      "outputs": []
    },
    {
      "cell_type": "code",
      "metadata": {
        "id": "U968aXcWcwum",
        "colab_type": "code",
        "colab": {}
      },
      "source": [
        "assoc_rules.saveAsTextFile('/content/drive/My Drive/CS-5683/Project1_output')"
      ],
      "execution_count": 104,
      "outputs": []
    }
  ]
}